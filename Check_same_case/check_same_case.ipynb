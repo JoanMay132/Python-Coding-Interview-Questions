{
 "cells": [
  {
   "cell_type": "markdown",
   "metadata": {
    "tags": []
   },
   "source": [
    "# **CHECK SAME CASE**"
   ]
  },
  {
   "cell_type": "markdown",
   "metadata": {},
   "source": [
    "## DESCRIPTION:\n",
    "    Write a function that will check if two given characters are the same case.\n",
    "        If either of the characters is not a letter, return -1\n",
    "        If both characters are the same case, return 1\n",
    "        If both characters are letters, but not the same case, return 0"
   ]
  },
  {
   "cell_type": "markdown",
   "metadata": {},
   "source": [
    "## EXAMPLES\n",
    "\n",
    "    'a' and 'g' returns 1\n",
    "\n",
    "    'A' and 'C' returns 1\n",
    "\n",
    "    'b' and 'G' returns 0\n",
    "\n",
    "    'B' and 'g' returns 0\n",
    "\n",
    "    '0' and '?' returns -1"
   ]
  },
  {
   "cell_type": "markdown",
   "metadata": {},
   "source": [
    "## SOLUTION"
   ]
  },
  {
   "cell_type": "code",
   "execution_count": null,
   "metadata": {},
   "outputs": [],
   "source": [
    "def same_case(a,b):\n",
    "    if not (a.isalpha() and b.isalpha()):\n",
    "        return -1\n",
    "    elif (a.islower() and b.islower()) or (a.isupper() and b.isupper()):\n",
    "        return 1\n",
    "    else:\n",
    "        return 0"
   ]
  }
 ],
 "metadata": {
  "kernelspec": {
   "display_name": "",
   "name": ""
  },
  "language_info": {
   "name": "python"
  }
 },
 "nbformat": 4,
 "nbformat_minor": 4
}
